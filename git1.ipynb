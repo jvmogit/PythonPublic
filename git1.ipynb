{
  "nbformat": 4,
  "nbformat_minor": 0,
  "metadata": {
    "colab": {
      "name": "git1.ipynb",
      "version": "0.3.2",
      "provenance": [],
      "collapsed_sections": [],
      "include_colab_link": true
    },
    "kernelspec": {
      "name": "python3",
      "display_name": "Python 3"
    }
  },
  "cells": [
    {
      "cell_type": "markdown",
      "metadata": {
        "id": "view-in-github",
        "colab_type": "text"
      },
      "source": [
        "<a href=\"https://colab.research.google.com/github/jvmogit/PythonPublic/blob/master/git1.ipynb\" target=\"_parent\"><img src=\"https://colab.research.google.com/assets/colab-badge.svg\" alt=\"Open In Colab\"/></a>"
      ]
    },
    {
      "cell_type": "code",
      "metadata": {
        "id": "lNl-8P-Wbkyd",
        "colab_type": "code",
        "outputId": "cc8606c8-5861-4d7e-8eed-fc1d323a838f",
        "colab": {
          "base_uri": "https://localhost:8080/",
          "height": 34
        }
      },
      "source": [
        "name=\"github notebook\"\n",
        "print(name.title())"
      ],
      "execution_count": 0,
      "outputs": [
        {
          "output_type": "stream",
          "text": [
            "Github Notebook\n"
          ],
          "name": "stdout"
        }
      ]
    },
    {
      "cell_type": "markdown",
      "metadata": {
        "id": "_d-ocI83ec9Z",
        "colab_type": "text"
      },
      "source": [
        "From the Python Crash Course book"
      ]
    },
    {
      "cell_type": "code",
      "metadata": {
        "id": "yMvvhawreYaG",
        "colab_type": "code",
        "colab": {
          "base_uri": "https://localhost:8080/",
          "height": 87
        },
        "outputId": "05e0a697-2c62-4d18-fe8c-83f357d777e0"
      },
      "source": [
        "magicians = ['alice','david','carolina']\n",
        "for magician in magicians:\n",
        "\tprint(f\"{magician.title()}, that was a great trick!\")\n",
        "\n",
        "print(\"Thank you\")"
      ],
      "execution_count": 4,
      "outputs": [
        {
          "output_type": "stream",
          "text": [
            "Alice, that was a great trick!\n",
            "David, that was a great trick!\n",
            "Carolina, that was a great trick!\n",
            "Thank you\n"
          ],
          "name": "stdout"
        }
      ]
    }
  ]
}